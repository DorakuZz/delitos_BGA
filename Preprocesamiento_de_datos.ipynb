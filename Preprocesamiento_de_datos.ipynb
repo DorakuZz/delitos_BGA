{
  "nbformat": 4,
  "nbformat_minor": 0,
  "metadata": {
    "colab": {
      "provenance": [],
      "gpuType": "V28",
      "authorship_tag": "ABX9TyNT9Or0AVrgvHSg4YPFsb1d",
      "include_colab_link": true
    },
    "kernelspec": {
      "name": "python3",
      "display_name": "Python 3"
    },
    "language_info": {
      "name": "python"
    },
    "accelerator": "TPU"
  },
  "cells": [
    {
      "cell_type": "markdown",
      "metadata": {
        "id": "view-in-github",
        "colab_type": "text"
      },
      "source": [
        "<a href=\"https://colab.research.google.com/github/DorakuZz/delitos_BGA/blob/main/Preprocesamiento_de_datos.ipynb\" target=\"_parent\"><img src=\"https://colab.research.google.com/assets/colab-badge.svg\" alt=\"Open In Colab\"/></a>"
      ]
    },
    {
      "cell_type": "code",
      "execution_count": 57,
      "metadata": {
        "id": "atJTgM3VX0vN"
      },
      "outputs": [],
      "source": [
        "#Estas librerias sirven para hacer gráficas\n",
        "import pandas as pd\n",
        "import numpy as np\n",
        "import seaborn as sn"
      ]
    },
    {
      "cell_type": "code",
      "source": [
        "#Libreria utilizada para hacer uso de URLs externas\n",
        "import urllib.request\n",
        "\n",
        "#Importar la API para el trabajo\n",
        "urlvariables = \"https://www.datos.gov.co/resource/x46e-abhz.csv\"\n",
        "\n",
        "variables = urllib.request.urlopen(urlvariables)\n",
        "\n",
        "#Ese bucle for es para darle una iteración a cada línea\n",
        "for linea in variables:\n",
        "  #Decodificación de cada línea desde bytes a una cadena de texto utilizando UTF-8\n",
        "  print(linea.decode(\"utf-8\"))"
      ],
      "metadata": {
        "collapsed": true,
        "id": "1XwkmrVuYGkx"
      },
      "execution_count": null,
      "outputs": []
    },
    {
      "cell_type": "code",
      "source": [
        "import pandas as pd\n",
        "from google.colab import drive\n",
        "\n",
        "# Montar Google Drive\n",
        "drive.mount('/content/drive')\n",
        "\n",
        "# Especificar la ruta del archivo en tu Google Drive\n",
        "url = \"/content/drive/My Drive/Datos/Informaci_n_delictiva_del_municipio_de_Bucaramanga_20240925.csv\"\n",
        "\n",
        "# Leer el archivo usando el comando pd.read_csv\n",
        "df = pd.read_csv(url, low_memory=False)\n",
        "\n",
        "# Mostrar el contenido del dataframe df\n",
        "df\n"
      ],
      "metadata": {
        "collapsed": true,
        "id": "qXYd46CZYIbB"
      },
      "execution_count": null,
      "outputs": []
    },
    {
      "cell_type": "code",
      "source": [
        "#Ver dimensiones del dataframe\n",
        "df.shape"
      ],
      "metadata": {
        "id": "bz8O5mQUZFEh"
      },
      "execution_count": null,
      "outputs": []
    },
    {
      "cell_type": "code",
      "source": [
        "#Este comando nos muestra la información del DataFrame\n",
        "df.info()"
      ],
      "metadata": {
        "collapsed": true,
        "id": "i4uVLq5lav4q"
      },
      "execution_count": null,
      "outputs": []
    },
    {
      "cell_type": "code",
      "source": [
        "#Ver el nombre de las columnas que están en el dataframe\n",
        "df.columns"
      ],
      "metadata": {
        "collapsed": true,
        "id": "03M_Bdb9ZH3E"
      },
      "execution_count": null,
      "outputs": []
    },
    {
      "cell_type": "code",
      "source": [
        "#Duplicar el dataframe para trabajar con una copia llamada dfc\n",
        "dfc = df.copy()"
      ],
      "metadata": {
        "id": "tPXgDAgCZMSK"
      },
      "execution_count": 63,
      "outputs": []
    },
    {
      "cell_type": "code",
      "source": [
        "#Este comando sirve para visualizar qué tipo de variable es cada columna\n",
        "dfc.dtypes"
      ],
      "metadata": {
        "collapsed": true,
        "id": "cmh_2T5VZTh5"
      },
      "execution_count": null,
      "outputs": []
    },
    {
      "cell_type": "code",
      "source": [
        "#Con este comando podemos visualizar cuántos valores diferentes existen en cada columna\n",
        "for column in dfc.columns:\n",
        "    num_distinct_values = len(dfc[column].unique())\n",
        "    print(f\"{column}: {num_distinct_values} Valores diferentes\")"
      ],
      "metadata": {
        "collapsed": true,
        "id": "J3a_X_3IaQSY"
      },
      "execution_count": null,
      "outputs": []
    },
    {
      "cell_type": "code",
      "source": [
        "#Este comando sirve para comprobar si existen filas duplicadas en el dataframe\n",
        "duplicate_rows_data = dfc[dfc.duplicated()]\n",
        "print(\"numero de filas duplicadas es: \", duplicate_rows_data.shape[0])"
      ],
      "metadata": {
        "id": "4eF17AaPaZaR"
      },
      "execution_count": null,
      "outputs": []
    },
    {
      "cell_type": "code",
      "source": [
        "#Este comando sirve para comprobar si existen valores nulos\n",
        "dfc.isnull().sum()"
      ],
      "metadata": {
        "collapsed": true,
        "id": "TxY2jF50aT8Q"
      },
      "execution_count": null,
      "outputs": []
    },
    {
      "cell_type": "code",
      "source": [
        "#Este comando tiene la funcion de mostrar el promedio, el mínimo, el cuartíl 1, 2 y 3 y el máximo (solo númericos)\n",
        "dfc.describe().T"
      ],
      "metadata": {
        "id": "bwA5QFq_dgi5"
      },
      "execution_count": null,
      "outputs": []
    },
    {
      "cell_type": "code",
      "source": [
        "#Este comando tiene la funcion de mostrar el promedio, el mínimo, el cuartíl 1, 2 y 3 y el máximo (con el 'object' nos muestra los categóricos)\n",
        "dfc.describe(include=['object']).T"
      ],
      "metadata": {
        "id": "zjTIggPyd625"
      },
      "execution_count": null,
      "outputs": []
    },
    {
      "cell_type": "code",
      "source": [
        "#Con este comando podemos borrar columnas con las que no queremos trabajar\n",
        "#Para borrar esas columnas se hace uso de dfc.drop(\"nombre_columna\" axis = 1, inplace = True)\n",
        "#axis = 1 significa que borra las columnas, caso diferente seria un axis = 0 que elimina filas\n",
        "#inplace = True es para que se aplique en el dfc (copia) y en el df (original)\n",
        "dfc.drop(\"AÑO_NUM\", axis=1, inplace=True)\n",
        "dfc.drop(\"CLASE_SITIO\", axis=1, inplace=True)\n",
        "dfc.drop(\"MOVIL_VICTIMA\", axis=1, inplace=True)\n",
        "dfc.drop(\"MOVIL_AGRESOR\", axis=1, inplace=True)\n",
        "dfc.drop(\"CANTIDAD_UNICA\", axis=1, inplace=True)\n",
        "dfc.drop(\"FECHA_HECHO\", axis=1, inplace=True)\n",
        "dfc.drop(\"BARRIOS_HECHO\", axis=1, inplace=True)\n",
        "dfc.drop(\"LOCALIDAD\", axis = 1, inplace = True)\n",
        "dfc.drop(\"RANGO_HORARIO\", axis = 1, inplace = True)\n",
        "dfc.drop(\"DIA_NUM\", axis=1, inplace = True)\n",
        "dfc.drop(\"CURSO_VIDA_ORDEN\", axis = 1, inplace = True)\n",
        "dfc.drop(\"CURSO_VIDA\", axis = 1, inplace = True)\n",
        "dfc.drop(\"ARTICULO\", axis = 1 , inplace = True)\n",
        "dfc.drop(\"DIA_NOMBRE_ORDEN\", axis = 1, inplace = True)\n",
        "dfc.drop(\"TIPOLOGÍA\", axis = 1 , inplace = True)\n",
        "dfc.drop(\"DELITO_SOLO\" , axis = 1 , inplace = True)\n",
        "dfc.drop(\"NUM_COM\" , axis = 1, inplace = True)\n",
        "dfc.drop(\"HORA_HECHO\" , axis = 1 , inplace = True)"
      ],
      "metadata": {
        "id": "xMJ_9PNigJlx"
      },
      "execution_count": 70,
      "outputs": []
    },
    {
      "cell_type": "code",
      "source": [
        "#Este comando tiene la función de imprimir en pantalla los nombres de las columnas del DataFrame 'dfc'\n",
        "dfc.columns"
      ],
      "metadata": {
        "id": "VeD5QFgWmRAH"
      },
      "execution_count": null,
      "outputs": []
    },
    {
      "cell_type": "code",
      "source": [
        "#Con estos comandos podemos visualizar en nuestro terminal el nombre de cada valor único por columns\n",
        "dfc.SEXO.unique()"
      ],
      "metadata": {
        "id": "mYKEfj90273N"
      },
      "execution_count": null,
      "outputs": []
    },
    {
      "cell_type": "code",
      "source": [
        "#Con este comando podemos ver la distribución de valores en la columna\n",
        "dfc.SEXO.value_counts()"
      ],
      "metadata": {
        "id": "rkJFha9P3QLF"
      },
      "execution_count": null,
      "outputs": []
    },
    {
      "cell_type": "code",
      "source": [
        "#Con este comando\n",
        "dfc = dfc.drop(df[df['SEXO'] == 'NO DISPONIBLE'].index)"
      ],
      "metadata": {
        "id": "5JHDkatC4keU"
      },
      "execution_count": 74,
      "outputs": []
    },
    {
      "cell_type": "code",
      "source": [
        "#Con este comando podemos ver la distribución de valores en la columna\n",
        "dfc.SEXO.value_counts()"
      ],
      "metadata": {
        "id": "4wJrql544pKs"
      },
      "execution_count": null,
      "outputs": []
    },
    {
      "cell_type": "code",
      "source": [
        "dfc.EDAD.unique()"
      ],
      "metadata": {
        "id": "pOgJSWud9M3U"
      },
      "execution_count": null,
      "outputs": []
    },
    {
      "cell_type": "code",
      "source": [
        "dfc.EDAD.value_counts()"
      ],
      "metadata": {
        "collapsed": true,
        "id": "xhfEFIB39Qrz"
      },
      "execution_count": null,
      "outputs": []
    },
    {
      "cell_type": "code",
      "source": [
        "import pandas as pd\n",
        "import numpy as np\n",
        "\n",
        "# Supongamos que tienes un DataFrame 'df' con una columna llamada 'edad'\n",
        "dfc['EDAD'] = pd.to_numeric(df['EDAD'], errors='coerce').astype('Int32')  # Convertir a int manejando valores nulos"
      ],
      "metadata": {
        "collapsed": true,
        "id": "idvH1ijbALg1"
      },
      "execution_count": 78,
      "outputs": []
    },
    {
      "cell_type": "code",
      "source": [
        "dfc.dtypes"
      ],
      "metadata": {
        "collapsed": true,
        "id": "KnigHWTDAaes"
      },
      "execution_count": null,
      "outputs": []
    },
    {
      "cell_type": "code",
      "source": [
        "dfc.describe().T"
      ],
      "metadata": {
        "collapsed": true,
        "id": "s6-_lIR9AlaT"
      },
      "execution_count": null,
      "outputs": []
    },
    {
      "cell_type": "code",
      "source": [
        "import pandas as pd\n",
        "import numpy as np\n",
        "\n",
        "# Supongamos que ya tienes el DataFrame 'df'\n",
        "\n",
        "# Paso 1: Convertir 'NO DISPONIBLE' a NaN\n",
        "dfc['EDAD'] = dfc['EDAD'].replace('NO DISPONIBLE', np.nan)\n",
        "\n",
        "# Paso 2: Convertir la columna de 'EDAD' a numérica (en caso de que tenga valores como strings)\n",
        "dfc['EDAD'] = pd.to_numeric(dfc['EDAD'], errors='coerce')\n",
        "\n",
        "# Paso 3: Calcular la mediana de la columna 'EDAD' (ignorando los valores NaN)\n",
        "median_age = dfc['EDAD'].median()\n",
        "\n",
        "# Paso 4: Reemplazar los valores NaN (que incluyen 'nan' y 'NO DISPONIBLE') con la mediana\n",
        "dfc['EDAD'] = dfc['EDAD'].fillna(median_age)\n",
        "\n",
        "# Paso 5: Redondear la columna 'EDAD' y convertirla a int64\n",
        "dfc['EDAD'] = dfc['EDAD'].round(0).astype('int64')"
      ],
      "metadata": {
        "id": "rJPJOHkUA7CT"
      },
      "execution_count": 81,
      "outputs": []
    },
    {
      "cell_type": "code",
      "source": [
        "##Se crea la función para categorizar la columna 'EDAD'\n",
        "def categorize_age(edad):\n",
        "    if edad < 13:\n",
        "        return 'NIÑEZ'\n",
        "    elif 13 <= edad < 18:\n",
        "        return 'ADOLESCENCIA'\n",
        "    elif 18 <= edad < 60:\n",
        "        return 'ADULTEZ'\n",
        "    else:\n",
        "        return 'ADULTEZ MAYOR'\n",
        "\n",
        "# Crear la nueva columna categorizada\n",
        "dfc['GATEGORIA_EDAD'] = dfc['EDAD'].apply(categorize_age)"
      ],
      "metadata": {
        "collapsed": true,
        "id": "zinclfzPBA1b"
      },
      "execution_count": 82,
      "outputs": []
    },
    {
      "cell_type": "code",
      "source": [
        "dfc.GATEGORIA_EDAD.value_counts()"
      ],
      "metadata": {
        "id": "cLkswq0u4Gcu"
      },
      "execution_count": null,
      "outputs": []
    },
    {
      "cell_type": "code",
      "source": [
        "dfc.drop(\"EDAD\", axis = 1, inplace= True)"
      ],
      "metadata": {
        "id": "0RrmX1v64KKl"
      },
      "execution_count": 84,
      "outputs": []
    },
    {
      "cell_type": "code",
      "source": [
        "dfc.columns"
      ],
      "metadata": {
        "id": "pxCDCjoE4tXF"
      },
      "execution_count": null,
      "outputs": []
    },
    {
      "cell_type": "code",
      "source": [
        "dfc.MES_NUM.value_counts()"
      ],
      "metadata": {
        "id": "z9thWuMx5w5P"
      },
      "execution_count": null,
      "outputs": []
    },
    {
      "cell_type": "code",
      "source": [
        "#Se crea la función para categorizar la columna 'RANGO_HORARIO_ORDEN'\n",
        "def categorize_horario(orden):\n",
        "    if (0 < orden < 6):\n",
        "        return 'MADRUGADA'\n",
        "    elif 6 <= orden < 12:\n",
        "        return 'MAÑANA'\n",
        "    elif 12 <= orden < 18:\n",
        "        return 'TARDE'\n",
        "    else:\n",
        "        return 'NOCHE'\n",
        "\n",
        "# Crear la nueva columna categorizada\n",
        "dfc['HORARIO_CATEGORIZADO'] = dfc['RANGO_HORARIO_ORDEN'].apply(categorize_horario)"
      ],
      "metadata": {
        "id": "P7fu28sb7uEu"
      },
      "execution_count": 87,
      "outputs": []
    },
    {
      "cell_type": "code",
      "source": [
        "dfc.drop(\"RANGO_HORARIO_ORDEN\", axis = 1, inplace = True)"
      ],
      "metadata": {
        "id": "Qyy44js276j0"
      },
      "execution_count": 88,
      "outputs": []
    },
    {
      "cell_type": "code",
      "source": [
        "dfc.HORARIO_CATEGORIZADO.value_counts()"
      ],
      "metadata": {
        "id": "eWNla0kR8PGt"
      },
      "execution_count": null,
      "outputs": []
    },
    {
      "cell_type": "code",
      "source": [
        "dfc.ARMAS_MEDIOS.value_counts()"
      ],
      "metadata": {
        "id": "cOHyS0KaBbQ1",
        "collapsed": true
      },
      "execution_count": null,
      "outputs": []
    },
    {
      "cell_type": "code",
      "source": [
        "\n",
        "dfc['ARMAS_MEDIOS'] = dfc['ARMAS_MEDIOS'].replace('VEHICULO', 'VEHICULO')\n",
        "dfc['ARMAS_MEDIOS'] = dfc['ARMAS_MEDIOS'].replace('MOTO', 'VEHICULO')\n",
        "dfc['ARMAS_MEDIOS'] = dfc['ARMAS_MEDIOS'].replace('BICICLETA', 'VEHICULO')\n",
        "\n",
        "dfc['ARMAS_MEDIOS'] = dfc['ARMAS_MEDIOS'].replace('GRANADA DE MANO', 'EXPLOSIVO')\n",
        "dfc['ARMAS_MEDIOS'] = dfc['ARMAS_MEDIOS'].replace('PAPA EXPLOSIVA', 'EXPLOSIVO')\n",
        "dfc['ARMAS_MEDIOS'] = dfc['ARMAS_MEDIOS'].replace('COMBUSTIBLE', 'EXPLOSIVO')\n",
        "dfc['ARMAS_MEDIOS'] = dfc['ARMAS_MEDIOS'].replace('ARTEFACTO EXPLOSIVO/CARGA DINAMITA', 'EXPLOSIVO')\n",
        "dfc['ARMAS_MEDIOS'] = dfc['ARMAS_MEDIOS'].replace('ARTEFACTO INCENDIARIO', 'EXPLOSIVO')\n",
        "\n",
        "dfc['ARMAS_MEDIOS'] = dfc['ARMAS_MEDIOS'].replace('ARMA BLANCA / CORTOPUNZANTE', 'ARMAS')\n",
        "dfc['ARMAS_MEDIOS'] = dfc['ARMAS_MEDIOS'].replace('ARMA DE FUEGO', 'ARMAS')\n",
        "dfc['ARMAS_MEDIOS'] = dfc['ARMAS_MEDIOS'].replace('CONTUNDENTES', 'ARMAS')\n",
        "dfc['ARMAS_MEDIOS'] = dfc['ARMAS_MEDIOS'].replace('CUERDA/SOGA/CADENA', 'ARMAS')\n",
        "dfc['ARMAS_MEDIOS'] = dfc['ARMAS_MEDIOS'].replace('CORTANTES', 'ARMAS')\n",
        "dfc['ARMAS_MEDIOS'] = dfc['ARMAS_MEDIOS'].replace('ARMA TRAUMATICA', 'ARMAS')\n",
        "dfc['ARMAS_MEDIOS'] = dfc['ARMAS_MEDIOS'].replace('PUNZANTES', 'ARMAS')\n",
        "dfc['ARMAS_MEDIOS'] = dfc['ARMAS_MEDIOS'].replace('CORTOPUNZANTES', 'ARMAS')\n",
        "dfc['ARMAS_MEDIOS'] = dfc['ARMAS_MEDIOS'].replace('LLAVE MAESTRA', 'ARMAS')\n",
        "dfc['ARMAS_MEDIOS'] = dfc['ARMAS_MEDIOS'].replace('PALANCAS', 'ARMAS')\n",
        "\n",
        "dfc['ARMAS_MEDIOS'] = dfc['ARMAS_MEDIOS'].replace('ESCOPOLAMINA', 'SUSTANCIAS QUIMICAS')\n",
        "dfc['ARMAS_MEDIOS'] = dfc['ARMAS_MEDIOS'].replace('ACIDO', 'SUSTANCIAS QUIMICAS')\n",
        "dfc['ARMAS_MEDIOS'] = dfc['ARMAS_MEDIOS'].replace('AGUA CALIENTE', 'SUSTANCIAS QUIMICAS')\n",
        "dfc['ARMAS_MEDIOS'] = dfc['ARMAS_MEDIOS'].replace('QUIMICOS', 'SUSTANCIAS QUIMICAS')\n",
        "dfc['ARMAS_MEDIOS'] = dfc['ARMAS_MEDIOS'].replace('GASES', 'SUSTANCIAS QUIMICAS')\n",
        "dfc['ARMAS_MEDIOS'] = dfc['ARMAS_MEDIOS'].replace('SUSTANCIAS TOXICAS', 'SUSTANCIAS QUIMICAS')\n",
        "dfc['ARMAS_MEDIOS'] = dfc['ARMAS_MEDIOS'].replace('LICOR ADULTERADO', 'SUSTANCIAS QUIMICAS')\n",
        "dfc['ARMAS_MEDIOS'] = dfc['ARMAS_MEDIOS'].replace('VENENO', 'SUSTANCIAS QUIMICAS')\n",
        "dfc['ARMAS_MEDIOS'] = dfc['ARMAS_MEDIOS'].replace('MEDICAMENTOS', 'SUSTANCIAS QUIMICAS')\n",
        "\n",
        "dfc['ARMAS_MEDIOS'] = dfc['ARMAS_MEDIOS'].replace('JERINGA', 'OTROS')\n",
        "dfc['ARMAS_MEDIOS'] = dfc['ARMAS_MEDIOS'].replace('PRENDAS DE VESTIR', 'OTROS')\n",
        "dfc['ARMAS_MEDIOS'] = dfc['ARMAS_MEDIOS'].replace('REDES SOCIALES', 'OTROS')\n",
        "dfc['ARMAS_MEDIOS'] = dfc['ARMAS_MEDIOS'].replace('NO REPORTADO', 'OTROS')\n",
        "dfc['ARMAS_MEDIOS'] = dfc['ARMAS_MEDIOS'].replace('NO DISPONIBLE', 'OTROS')\n",
        "dfc['ARMAS_MEDIOS'] = dfc['ARMAS_MEDIOS'].replace('MIXTA', 'OTROS')\n",
        "dfc['ARMAS_MEDIOS'] = dfc['ARMAS_MEDIOS'].replace('LLAMADA TELEFONICA', 'OTROS')\n",
        "dfc['ARMAS_MEDIOS'] = dfc['ARMAS_MEDIOS'].replace('CARTA EXTORSIVA', 'OTROS')\n",
        "dfc['ARMAS_MEDIOS'] = dfc['ARMAS_MEDIOS'].replace('DIRECTA', 'OTROS')\n",
        "dfc['ARMAS_MEDIOS'] = dfc['ARMAS_MEDIOS'].replace('PERRO', 'OTROS')\n",
        "dfc['ARMAS_MEDIOS'] = dfc['ARMAS_MEDIOS'].replace('BOLSA PLASTICA', 'OTROS')"
      ],
      "metadata": {
        "id": "GD-ZaWMSJPfT"
      },
      "execution_count": 91,
      "outputs": []
    },
    {
      "cell_type": "code",
      "source": [
        "dfc.ARMAS_MEDIOS.value_counts()"
      ],
      "metadata": {
        "id": "DbmjVSUXKMl-"
      },
      "execution_count": null,
      "outputs": []
    },
    {
      "cell_type": "code",
      "source": [
        "dfc.DESCRIPCION_CONDUCTA.unique()"
      ],
      "metadata": {
        "id": "T-KJGiFTqUgU"
      },
      "execution_count": null,
      "outputs": []
    },
    {
      "cell_type": "code",
      "source": [
        "import pandas as pd\n",
        "\n",
        "# Supón que tienes tu DataFrame dfc cargado\n",
        "# dfc = pd.read_csv(\"ruta_del_archivo.csv\")\n",
        "\n",
        "# Definir el mapeo de categorías\n",
        "mapeo_conductas = {\n",
        "    'HURTO': [\n",
        "        'ARTÍCULO 239. HURTO PERSONAS', 'ARTÍCULO 239. HURTO RESIDENCIAS',\n",
        "        'ARTÍCULO 239. HURTO MOTOCICLETAS', 'ARTÍCULO 239. HURTO AUTOMOTORES',\n",
        "        'ARTÍCULO 243. ABIGEATO', 'ARTÍCULO 243. HURTO ABIGEATO'\n",
        "    ],\n",
        "    'DELITOS SEXUALES': [\n",
        "        'ARTÍCULO 209. ACTOS SEXUALES CON MENOR DE 14 AÑOS',\n",
        "        'ARTÍCULO 208. ACCESO CARNAL ABUSIVO CON MENOR DE 14 AÑOS',\n",
        "        'ARTÍCULO 206. ACTO SEXUAL VIOLENTO',\n",
        "        'ARTÍCULO 219 A. UTILIZACIÓN O FACILITACIÓN DE MEDIOS DE COMUNICACIÓN PARA OFRECER SERVICIOS SEXUALES DE MENORES',\n",
        "        'ARTÍCULO 205. ACCESO CARNAL VIOLENTO',\n",
        "        'ARTÍCULO 211. ACCESO CARNAL O ACTO SEXUAL EN PERSONA PUESTA EN INCAPACIDAD DE RESISTIR (CIRCUNSTANCIAS AGRAVACIÓN)',\n",
        "        'ARTÍCULO 207. ACCESO CARNAL O ACTO SEXUAL EN PERSONA PUESTA EN INCAPACIDAD DE RESISTIR',\n",
        "        'ARTÍCULO 210 A. ACOSO SEXUAL',\n",
        "        'ARTÍCULO 217 A. DEMANDA DE EXPLOTACION SEXUAL COMERCIAL DE PERSONA MENOR DE 18 AÑOS DE EDAD',\n",
        "        'ARTÍCULO 217. ESTÍMULO A LA PROSTITUCIÓN DE MENORES',\n",
        "        'ARTÍCULO 214. CONSTREÑIMIENTO A LA PROSTITUCIÓN',\n",
        "        'ARTÍCULO 210. ACCESO CARNAL O ACTO SEXUAL ABUSIVO CON INCAPAZ DE RESISTIR',\n",
        "        'ARTÍCULO 218. PORNOGRAFÍA CON MENORES',\n",
        "        'ARTÍCULO 213 A. PROXENETISMO CON MENOR DE EDAD'\n",
        "    ],\n",
        "    'VIOLENCIA INTRAFAMILIAR': [\n",
        "        'ARTÍCULO 229. VIOLENCIA INTRAFAMILIAR'\n",
        "    ],\n",
        "    'LESIONES': [\n",
        "        'ARTÍCULO 120. LESIONES CULPOSAS', 'ARTÍCULO 120. LESIONES CULPOSAS ( EN ACCIDENTE DE TRANSITO )',\n",
        "        'ARTÍCULO 125. LESIONES AL FETO', 'ARTÍCULO 111. LESIONES PERSONALES'\n",
        "    ],\n",
        "    'HOMICIDIO': [\n",
        "        'ARTÍCULO 103. HOMICIDIO', 'ARTÍCULO 104A. FEMINICIDIO',\n",
        "        'ARTÍCULO 109. HOMICIDIO CULPOSO ( EN ACCIDENTE DE TRÁNSITO)'\n",
        "    ],\n",
        "    'EXTORSIÓN': [\n",
        "        'ARTÍCULO 244. EXTORSIÓN'\n",
        "    ],\n",
        "    'AMENAZAS': [\n",
        "        'ARTÍCULO 347. AMENAZAS'\n",
        "    ]\n",
        "}\n",
        "\n",
        "# Reemplazar los valores en la columna 'DESCRIPCION_CONDUCTA'\n",
        "dfc['DESCRIPCION_CONDUCTA'] = dfc['DESCRIPCION_CONDUCTA'].replace({\n",
        "    valor: categoria\n",
        "    for categoria, valores in mapeo_conductas.items()\n",
        "    for valor in valores\n",
        "})\n",
        "\n",
        "# Mostrar el DataFrame actualizado\n",
        "print(dfc['DESCRIPCION_CONDUCTA'])\n"
      ],
      "metadata": {
        "id": "Sb8ry9rZrU0W"
      },
      "execution_count": null,
      "outputs": []
    },
    {
      "cell_type": "code",
      "source": [
        "dfc.dtypes"
      ],
      "metadata": {
        "id": "SWCKrqXijSmy"
      },
      "execution_count": null,
      "outputs": []
    },
    {
      "cell_type": "code",
      "source": [
        "dfc.isnull().sum()"
      ],
      "metadata": {
        "id": "WAjzEzLGkoOe"
      },
      "execution_count": null,
      "outputs": []
    },
    {
      "cell_type": "code",
      "source": [
        "from sklearn.preprocessing import OrdinalEncoder\n",
        "\n",
        "# Definir el orden de las categorías\n",
        "SEXO = [['MASCULINO', 'FEMENINO']]\n",
        "\n",
        "# Crear y ajustar el codificador\n",
        "codificar_sexo = OrdinalEncoder(categories=SEXO)\n",
        "codificador_sexo = codificar_sexo.fit(dfc[['SEXO']])\n",
        "\n",
        "# Transformar los datos\n",
        "sexo_transformada = codificador_sexo.transform(dfc[['SEXO']])\n",
        "\n",
        "# Mostrar el resultado\n",
        "print(sexo_transformada)"
      ],
      "metadata": {
        "id": "DzH0TeP-xHS-"
      },
      "execution_count": null,
      "outputs": []
    },
    {
      "cell_type": "code",
      "source": [
        "from sklearn.preprocessing import OrdinalEncoder\n",
        "\n",
        "# Definir el orden de las categorías\n",
        "DIA_NOMBRE = [['lunes', 'martes', 'miércoles', 'jueves', 'viernes', 'sábado', 'domingo']]\n",
        "\n",
        "# Crear y ajustar el codificador\n",
        "codificar_dia = OrdinalEncoder(categories=DIA_NOMBRE)\n",
        "codificador_dia = codificar_dia.fit(dfc[['DIA_NOMBRE']])\n",
        "\n",
        "# Transformar los datos\n",
        "dia_transformada = codificador_dia.transform(dfc[['DIA_NOMBRE']])\n",
        "\n",
        "# Mostrar el resultado\n",
        "print(dia_transformada)"
      ],
      "metadata": {
        "id": "L2qdoKuowyUW"
      },
      "execution_count": null,
      "outputs": []
    },
    {
      "cell_type": "code",
      "source": [
        "from sklearn.preprocessing import OrdinalEncoder\n",
        "\n",
        "# Definir el orden de las categorías\n",
        "NOM_COMUNA = [['SUR', 'PROVENZA', 'LA CIUDADELA', 'LA CONCORDIA', 'CENTRO',\n",
        "       'CABECERA DEL LLANO', 'ORIENTAL', 'OCCIDENTAL', 'SAN FRANCISCO',\n",
        "       'NORORIENTAL', 'NORTE', 'SUROCCIDENTE', 'GARCIA ROVIRA',\n",
        "       'MORRORICO', 'LA PEDREGOSA', 'MUTIS', 'LAGOS DEL CACIQUE',\n",
        "       'NO DISPONIBLE', 'CORREGIMIENTO 1', 'CORREGIMIENTO 3',\n",
        "       'CORREGIMIENTO 2']]\n",
        "\n",
        "# Crear y ajustar el codificador\n",
        "codificar_comuna = OrdinalEncoder(categories=NOM_COMUNA)\n",
        "codificador_comuna = codificar_comuna.fit(dfc[['NOM_COM']])\n",
        "\n",
        "# Transformar los datos\n",
        "comuna_transformada = codificador_comuna.transform(dfc[['NOM_COM']])\n",
        "\n",
        "# Mostrar el resultado\n",
        "print(comuna_transformada)"
      ],
      "metadata": {
        "id": "yDXLG9ty6A_7"
      },
      "execution_count": null,
      "outputs": []
    },
    {
      "cell_type": "code",
      "source": [
        "dfc.columns"
      ],
      "metadata": {
        "id": "VF0IkIxMmtiM"
      },
      "execution_count": null,
      "outputs": []
    },
    {
      "cell_type": "code",
      "source": [
        "df_modelo = pd.get_dummies(dfc, columns=['SEXO','ARMAS_MEDIOS','GATEGORIA_EDAD','HORARIO_CATEGORIZADO', 'DIA_NOMBRE','NOM_COM'\n",
        "    ], drop_first=True)"
      ],
      "metadata": {
        "id": "BbVgBhlfm2yZ"
      },
      "execution_count": 103,
      "outputs": []
    },
    {
      "cell_type": "code",
      "source": [
        "df_modelo.info()"
      ],
      "metadata": {
        "id": "JZHdyZ0undee"
      },
      "execution_count": null,
      "outputs": []
    },
    {
      "cell_type": "code",
      "source": [
        "df_modelo.columns"
      ],
      "metadata": {
        "id": "YqfnyBfOnkgm"
      },
      "execution_count": null,
      "outputs": []
    },
    {
      "cell_type": "code",
      "source": [
        "from sklearn.model_selection import train_test_split\n",
        "X = df_modelo.drop(columns=['DESCRIPCION_CONDUCTA'])  # Eliminar la columna objetivo\n",
        "y = df_modelo['DESCRIPCION_CONDUCTA']  # La columna objetivo\n",
        "# Dividir en conjuntos de entrenamiento y prueba (80% para entrenamiento y 20% para prueba)\n",
        "X_train, X_test, y_train, y_test = train_test_split(X, y, test_size=0.2, random_state=42)\n",
        "\n",
        "print(X_train.dtypes)\n"
      ],
      "metadata": {
        "id": "khfakT-hnxIq"
      },
      "execution_count": null,
      "outputs": []
    },
    {
      "cell_type": "code",
      "source": [
        "X_train, X_test, y_train, y_test = train_test_split(X, y, test_size=0.2, random_state=12345)\n",
        "\n",
        "print(X_train.dtypes)"
      ],
      "metadata": {
        "collapsed": true,
        "id": "oURU32fRodMr"
      },
      "execution_count": null,
      "outputs": []
    },
    {
      "cell_type": "code",
      "source": [
        "from sklearn.model_selection import train_test_split\n",
        "import pandas as pd\n",
        "from sklearn.linear_model import LogisticRegression # import the model\n",
        "\n",
        "X = pd.get_dummies(df_modelo.drop(columns=['DESCRIPCION_CONDUCTA']), drop_first=True)\n",
        "\n",
        "X_train, X_test, y_train, y_test = train_test_split(X, y, test_size=0.2, random_state=42)\n",
        "\n",
        "modelo = LogisticRegression() # create an instance of the model and assign it to the variable \"modelo\"\n",
        "modelo.fit(X_train, y_train)\n",
        "from sklearn.metrics import accuracy_score, classification_report\n",
        "\n",
        "# Predecir los valores en el conjunto de prueba\n",
        "y_pred = modelo.predict(X_test)\n",
        "# Calcular la precisión\n",
        "precision = accuracy_score(y_test, y_pred)\n",
        "print(f'Precisión del modelo: {precision:.2f}')\n",
        "\n",
        "# Generar un informe detallado de clasificación\n",
        "print(classification_report(y_test, y_pred))"
      ],
      "metadata": {
        "id": "-i9BoczSoh6J"
      },
      "execution_count": null,
      "outputs": []
    },
    {
      "cell_type": "code",
      "source": [
        "from sklearn.ensemble import RandomForestClassifier\n",
        "from sklearn.model_selection import GridSearchCV\n",
        "from sklearn.metrics import accuracy_score, classification_report\n",
        "import joblib  # Biblioteca para guardar el modelo en formato binario\n",
        "\n",
        "# Definir el modelo\n",
        "modelo = RandomForestClassifier(random_state=42)\n",
        "\n",
        "# Definir la cuadrícula de parámetros\n",
        "param_grid = {\n",
        "    'n_estimators': [50, 100, 200],\n",
        "    'max_depth': [None, 10, 20, 30],\n",
        "    'min_samples_split': [2, 5, 10],\n",
        "    'min_samples_leaf': [1, 2, 4],\n",
        "}\n",
        "\n",
        "# Crear el GridSearchCV\n",
        "grid_search = GridSearchCV(estimator=modelo, param_grid=param_grid, cv=5, n_jobs=-1, verbose=2)\n",
        "\n",
        "# Entrenar el modelo\n",
        "grid_search.fit(X_train, y_train)\n",
        "\n",
        "# Ver los mejores parámetros\n",
        "print(\"Mejores parámetros:\", grid_search.best_params_)\n",
        "\n",
        "# Usar el mejor modelo\n",
        "mejor_modelo = grid_search.best_estimator_\n",
        "\n",
        "# Predecir los valores en el conjunto de prueba\n",
        "y_pred = mejor_modelo.predict(X_test)\n",
        "\n",
        "# Calcular la precisión\n",
        "precision = accuracy_score(y_test, y_pred)\n",
        "print(f'Precisión del modelo: {precision:.2f}')\n",
        "\n",
        "# Generar un informe detallado de clasificación\n",
        "print(classification_report(y_test, y_pred))\n",
        "\n",
        "# Guardar el modelo en un archivo .bin usando joblib\n",
        "modelo_usar = 'mejor_modelo_random_forest.bin'\n",
        "joblib.dump(mejor_modelo, modelo_usar)\n",
        "\n",
        "print(f'Modelo guardado como {modelo_usar}')\n"
      ],
      "metadata": {
        "id": "4MXVJFFYyQW1"
      },
      "execution_count": null,
      "outputs": []
    }
  ]
}